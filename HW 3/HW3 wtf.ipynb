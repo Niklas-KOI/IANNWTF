{
 "cells": [
  {
   "cell_type": "code",
   "execution_count": 1,
   "metadata": {
    "executionInfo": {
     "elapsed": 2994,
     "status": "ok",
     "timestamp": 1605463081235,
     "user": {
      "displayName": "Srinidhi Srinivas",
      "photoUrl": "https://lh6.googleusercontent.com/-1q4vFxYq0zI/AAAAAAAAAAI/AAAAAAAAAGI/2P1E_tG3WHQ/s64/photo.jpg",
      "userId": "13940237247714617496"
     },
     "user_tz": -60
    },
    "id": "bvCeupatKuau"
   },
   "outputs": [],
   "source": [
    "import numpy as np\n",
    "%tensorflow_version 2.x\n",
    "import tensorflow as tf\n",
    "import matplotlib.pyplot as plt\n",
    "import tensorflow_datasets as tfds"
   ]
  },
  {
   "cell_type": "markdown",
   "metadata": {
    "id": "R6_rej9sKua2"
   },
   "source": [
    "### Load the dataset."
   ]
  },
  {
   "cell_type": "code",
   "execution_count": 2,
   "metadata": {
    "colab": {
     "base_uri": "https://localhost:8080/",
     "height": 222,
     "referenced_widgets": [
      "5f738cd8346948c295deefacffe55d9f",
      "e7aa9c4971fa473995e0b848d3bc8d5d",
      "3a68083663bc46fea75293826bba4326",
      "a41433683884482bbf9d357d3c1f381d",
      "b37f64fa973d4e1898ddeb214ad915fd",
      "bcbec7cd7d064a998a68902061987372",
      "8812036c69d64ac2bb8e4a7a2288866a",
      "636363047f9e42ada116069414500883"
     ]
    },
    "executionInfo": {
     "elapsed": 13176,
     "status": "ok",
     "timestamp": 1605463091429,
     "user": {
      "displayName": "Srinidhi Srinivas",
      "photoUrl": "https://lh6.googleusercontent.com/-1q4vFxYq0zI/AAAAAAAAAAI/AAAAAAAAAGI/2P1E_tG3WHQ/s64/photo.jpg",
      "userId": "13940237247714617496"
     },
     "user_tz": -60
    },
    "id": "bnWWVWvuKua3",
    "outputId": "ae6d50f8-e985-4bfe-81d0-8c652f196d45"
   },
   "outputs": [
    {
     "name": "stdout",
     "output_type": "stream",
     "text": [
      "\u001b[1mDownloading and preparing dataset genomics_ood/0.0.1 (download: Unknown size, generated: 926.87 MiB, total: 926.87 MiB) to /root/tensorflow_datasets/genomics_ood/0.0.1...\u001b[0m\n"
     ]
    },
    {
     "name": "stderr",
     "output_type": "stream",
     "text": [
      "WARNING:absl:Dataset genomics_ood is hosted on GCS. It will automatically be downloaded to your\n",
      "local data directory. If you'd instead prefer to read directly from our public\n",
      "GCS bucket (recommended if you're running on GCP), you can instead pass\n",
      "`try_gcs=True` to `tfds.load` or set `data_dir=gs://tfds-data/datasets`.\n",
      "\n"
     ]
    },
    {
     "data": {
      "application/vnd.jupyter.widget-view+json": {
       "model_id": "5f738cd8346948c295deefacffe55d9f",
       "version_major": 2,
       "version_minor": 0
      },
      "text/plain": [
       "HBox(children=(FloatProgress(value=0.0, description='Dl Completed...', max=12.0, style=ProgressStyle(descripti…"
      ]
     },
     "metadata": {
      "tags": []
     },
     "output_type": "display_data"
    },
    {
     "name": "stdout",
     "output_type": "stream",
     "text": [
      "\n",
      "\n",
      "\u001b[1mDataset genomics_ood downloaded and prepared to /root/tensorflow_datasets/genomics_ood/0.0.1. Subsequent calls will reuse this data.\u001b[0m\n"
     ]
    }
   ],
   "source": [
    "# https://www.tensorflow.org/datasets/splits\n",
    "# Load first 100000 samples of training data and first 1000 of test data\n",
    "train_ds, test_ds = tfds.load(name='genomics_ood', as_supervised=True, split=['train[0:100000]', 'test[0:1000]']);"
   ]
  },
  {
   "cell_type": "markdown",
   "metadata": {
    "id": "9-X8MfmNKubL"
   },
   "source": [
    "### Build the TensorFlow dataset: Input pipeline"
   ]
  },
  {
   "cell_type": "code",
   "execution_count": 3,
   "metadata": {
    "executionInfo": {
     "elapsed": 1425,
     "status": "ok",
     "timestamp": 1605463093040,
     "user": {
      "displayName": "Srinidhi Srinivas",
      "photoUrl": "https://lh6.googleusercontent.com/-1q4vFxYq0zI/AAAAAAAAAAI/AAAAAAAAAGI/2P1E_tG3WHQ/s64/photo.jpg",
      "userId": "13940237247714617496"
     },
     "user_tz": -60
    },
    "id": "sHsz9NfYqzl1"
   },
   "outputs": [],
   "source": [
    "def onehotify(tensor):\n",
    "    vocab = {'A':'0', 'C': '1', 'G':'2', 'T':'3'}\n",
    "    for key in vocab.keys():\n",
    "        tensor = tf.strings.regex_replace(tensor, key, vocab[key])\n",
    "    split = tf.strings.bytes_split(tensor) #1231432 => [1,2,3,1,4,3,2]\n",
    "    labels = tf.cast(tf.strings.to_number(split), tf.uint8) \n",
    "    onehot = tf.one_hot(labels, 4) \n",
    "    onehot = tf.reshape(onehot, (-1,))\n",
    "    return onehot\n",
    "\n",
    "# Convert input string into onehot tensor using above function\n",
    "# Conver input label into onehot tensor using tf.one_hot\n",
    "def onehotify_data_input(input,label):\n",
    "    return (onehotify(input), tf.one_hot(label, depth=10))\n",
    "\n",
    "# Function to process datasets\n",
    "# Converts inputs and labels into onehot representations\n",
    "# Converts inputs into batches of specified size\n",
    "# Assumes inputs and targets are already zipped together (in tuple form)\n",
    "def process_ds(ds, batch_size=128):  \n",
    "\n",
    "    # Map all data points to their corresponding onehot representations\n",
    "    dataset = ds.map(onehotify_data_input)\n",
    "\n",
    "    # Batch and shuffle\n",
    "    dataset = dataset.batch(batch_size)\n",
    "    dataset = dataset.shuffle(buffer_size=128)\n",
    "\n",
    "    return dataset;\n",
    "\n",
    "# Process loaded training dataset\n",
    "train_dataset = process_ds(train_ds)\n",
    "\n",
    "# Process loaded test dataset\n",
    "test_dataset = process_ds(test_ds)\n",
    "\n"
   ]
  },
  {
   "cell_type": "markdown",
   "metadata": {
    "id": "xmvHHSSJKubU"
   },
   "source": [
    "### Build the model."
   ]
  },
  {
   "cell_type": "code",
   "execution_count": 1,
   "metadata": {
    "executionInfo": {
     "elapsed": 1037,
     "status": "ok",
     "timestamp": 1605463098747,
     "user": {
      "displayName": "Srinidhi Srinivas",
      "photoUrl": "https://lh6.googleusercontent.com/-1q4vFxYq0zI/AAAAAAAAAAI/AAAAAAAAAGI/2P1E_tG3WHQ/s64/photo.jpg",
      "userId": "13940237247714617496"
     },
     "user_tz": -60
    },
    "id": "0AxSFiVmKubV"
   },
   "outputs": [
    {
     "ename": "ModuleNotFoundError",
     "evalue": "No module named 'tensorflow'",
     "output_type": "error",
     "traceback": [
      "\u001b[0;31m---------------------------------------------------------------------------\u001b[0m",
      "\u001b[0;31mModuleNotFoundError\u001b[0m                       Traceback (most recent call last)",
      "\u001b[0;32m<ipython-input-1-c8b65689b13e>\u001b[0m in \u001b[0;36m<module>\u001b[0;34m\u001b[0m\n\u001b[0;32m----> 1\u001b[0;31m \u001b[0;32mfrom\u001b[0m \u001b[0mtensorflow\u001b[0m\u001b[0;34m.\u001b[0m\u001b[0mkeras\u001b[0m \u001b[0;32mimport\u001b[0m \u001b[0mModel\u001b[0m\u001b[0;34m\u001b[0m\u001b[0;34m\u001b[0m\u001b[0m\n\u001b[0m\u001b[1;32m      2\u001b[0m \u001b[0;32mfrom\u001b[0m \u001b[0mtensorflow\u001b[0m\u001b[0;34m.\u001b[0m\u001b[0mkeras\u001b[0m\u001b[0;34m.\u001b[0m\u001b[0mlayers\u001b[0m \u001b[0;32mimport\u001b[0m \u001b[0mLayer\u001b[0m\u001b[0;34m\u001b[0m\u001b[0;34m\u001b[0m\u001b[0m\n\u001b[1;32m      3\u001b[0m \u001b[0;34m\u001b[0m\u001b[0m\n\u001b[1;32m      4\u001b[0m \u001b[0;32mclass\u001b[0m \u001b[0mModel\u001b[0m\u001b[0;34m(\u001b[0m\u001b[0mModel\u001b[0m\u001b[0;34m)\u001b[0m\u001b[0;34m:\u001b[0m\u001b[0;34m\u001b[0m\u001b[0;34m\u001b[0m\u001b[0m\n\u001b[1;32m      5\u001b[0m     \u001b[0;32mdef\u001b[0m \u001b[0m__init__\u001b[0m\u001b[0;34m(\u001b[0m\u001b[0mself\u001b[0m\u001b[0;34m)\u001b[0m\u001b[0;34m:\u001b[0m\u001b[0;34m\u001b[0m\u001b[0;34m\u001b[0m\u001b[0m\n",
      "\u001b[0;31mModuleNotFoundError\u001b[0m: No module named 'tensorflow'"
     ]
    }
   ],
   "source": [
    "from tensorflow.keras import Model\n",
    "from tensorflow.keras.layers import Layer\n",
    "\n",
    "class Model(Model): \n",
    "    def __init__(self):\n",
    "        super(Model, self).__init__()\n",
    "\n",
    "        # Define the three layers.\n",
    "        self.hidden1 = tf.keras.layers.Dense(units=256, activation=tf.keras.activations.sigmoid)\n",
    "        self.hidden2 = tf.keras.layers.Dense(units=256, activation=tf.keras.activations.sigmoid)\n",
    "        self.output_layer = tf.keras.layers.Dense(units=10, activation=tf.keras.activations.softmax)\n",
    "    def call(self, inputs):      \n",
    "        # Define the forward step.\n",
    "        return self.output_layer(self.hidden2(self.hidden1(inputs)))"
   ]
  },
  {
   "cell_type": "markdown",
   "metadata": {
    "id": "VkEDZdIMKubZ"
   },
   "source": [
    "### Train the model."
   ]
  },
  {
   "cell_type": "code",
   "execution_count": 5,
   "metadata": {
    "executionInfo": {
     "elapsed": 1050,
     "status": "ok",
     "timestamp": 1605463100381,
     "user": {
      "displayName": "Srinidhi Srinivas",
      "photoUrl": "https://lh6.googleusercontent.com/-1q4vFxYq0zI/AAAAAAAAAAI/AAAAAAAAAGI/2P1E_tG3WHQ/s64/photo.jpg",
      "userId": "13940237247714617496"
     },
     "user_tz": -60
    },
    "id": "SVg42aU_xGpK"
   },
   "outputs": [],
   "source": [
    "#taken from the courseware-notebook\n",
    "\n",
    "def train_step(model, input, target, loss_function, optimizer):\n",
    "\n",
    "    with tf.GradientTape() as tape:\n",
    "        prediction = model(input)\n",
    "        loss = loss_function(target, prediction)\n",
    "        gradients = tape.gradient(loss, model.trainable_variables)\n",
    "    optimizer.apply_gradients(zip(gradients, model.trainable_variables))\n",
    "    return loss \n",
    "\n",
    "def test(model, test_data, loss_function):\n",
    "    test_accuracy_aggregator = []\n",
    "    test_loss_aggregator = []\n",
    "\n",
    "    for (input, target) in test_data:\n",
    "        prediction = model(input)\n",
    "        sample_test_loss = loss_function(target, prediction)\n",
    "        sample_test_accuracy =  np.argmax(target, axis=1) == np.argmax(prediction, axis=1)\n",
    "        sample_test_accuracy = np.mean(sample_test_accuracy)\n",
    "        test_loss_aggregator.append(sample_test_loss.numpy())\n",
    "        test_accuracy_aggregator.append(np.mean(sample_test_accuracy))\n",
    "\n",
    "    test_loss = np.mean(test_loss_aggregator)\n",
    "    test_accuracy = np.mean(test_accuracy_aggregator)\n",
    "\n",
    "    return test_loss, test_accuracy\n",
    "  \n",
    "\n"
   ]
  },
  {
   "cell_type": "code",
   "execution_count": 6,
   "metadata": {
    "colab": {
     "base_uri": "https://localhost:8080/"
    },
    "executionInfo": {
     "elapsed": 57595,
     "status": "ok",
     "timestamp": 1605463165413,
     "user": {
      "displayName": "Srinidhi Srinivas",
      "photoUrl": "https://lh6.googleusercontent.com/-1q4vFxYq0zI/AAAAAAAAAAI/AAAAAAAAAGI/2P1E_tG3WHQ/s64/photo.jpg",
      "userId": "13940237247714617496"
     },
     "user_tz": -60
    },
    "id": "wLUw0EhkKuba",
    "outputId": "9357c19d-d470-4429-9a1b-a7e094ed4b4a"
   },
   "outputs": [
    {
     "name": "stdout",
     "output_type": "stream",
     "text": [
      "Epoch: __ 0\n",
      "Epoch: __ 1\n"
     ]
    }
   ],
   "source": [
    "#taken from the courseware-notebook, the running average was removed\n",
    "\n",
    "tf.keras.backend.clear_session()\n",
    "\n",
    "### Hyperparameters\n",
    "num_epochs = 10\n",
    "learning_rate = 0.1\n",
    "\n",
    "# Initialize the model.\n",
    "model = Model()\n",
    "# Initialize the loss: categorical cross entropy.\n",
    "cross_entropy_loss = tf.keras.losses.CategoricalCrossentropy()\n",
    "# Initialize the optimizer: Adam with default parameters. \n",
    "optimizer = tf.keras.optimizers.SGD(learning_rate)\n",
    "\n",
    "# Initialize lists for later visualization.\n",
    "train_losses = []\n",
    "\n",
    "test_losses = []\n",
    "test_accuracies = []\n",
    "\n",
    "# We train for num_epochs epochs.\n",
    "for epoch in range(num_epochs):\n",
    "    print('Epoch: __ ' + str(epoch))\n",
    "\n",
    "    train_dataset = train_dataset.shuffle(buffer_size=128)\n",
    "    test_dataset = test_dataset.shuffle(buffer_size=128)\n",
    "\n",
    "    #training (and checking in with training)\n",
    "    train_loss=0\n",
    "    for (inputs,target) in train_dataset:\n",
    "        train_loss += train_step(model, inputs, target, cross_entropy_loss, optimizer)\n",
    "    train_losses.append(running_average/len(train_dataset))\n",
    "\n",
    "    #testing\n",
    "    test_loss, test_accuracy = test(model, test_dataset, cross_entropy_loss)\n",
    "    test_losses.append(test_loss)\n",
    "    test_accuracies.append(test_accuracy)\n",
    "\n"
   ]
  },
  {
   "cell_type": "markdown",
   "metadata": {
    "id": "Dc-tahx4Kubd"
   },
   "source": [
    "### Visualize the training progress."
   ]
  },
  {
   "cell_type": "code",
   "execution_count": 8,
   "metadata": {
    "colab": {
     "base_uri": "https://localhost:8080/",
     "height": 541
    },
    "executionInfo": {
     "elapsed": 1584,
     "status": "ok",
     "timestamp": 1605463215365,
     "user": {
      "displayName": "Srinidhi Srinivas",
      "photoUrl": "https://lh6.googleusercontent.com/-1q4vFxYq0zI/AAAAAAAAAAI/AAAAAAAAAGI/2P1E_tG3WHQ/s64/photo.jpg",
      "userId": "13940237247714617496"
     },
     "user_tz": -60
    },
    "id": "_19Jebu2Kube",
    "outputId": "594fd865-2db7-4a9a-cdc5-4d8c32851483",
    "scrolled": false
   },
   "outputs": [
    {
     "data": {
      "image/png": "[encoded data removed]",
      "text/plain": [
       "<Figure size 432x288 with 1 Axes>"
      ]
     },
     "metadata": {
      "needs_background": "light",
      "tags": []
     },
     "output_type": "display_data"
    },
    {
     "data": {
      "image/png": "[encoded data removed]",
      "text/plain": [
       "<Figure size 432x288 with 1 Axes>"
      ]
     },
     "metadata": {
      "needs_background": "light",
      "tags": []
     },
     "output_type": "display_data"
    }
   ],
   "source": [
    "#taken from the courseware notebook\n",
    "\n",
    "# Visualize accuracy and loss for training and test data. \n",
    "# One plot training and test loss.\n",
    "# One plot training and test accuracy.\n",
    "plt.figure()\n",
    "x = list(range(num_epochs));\n",
    "line1, = plt.plot(x, train_losses, label='training')\n",
    "line2, = plt.plot(x, test_losses, label='test')\n",
    "plt.xlabel(\"Training steps\")\n",
    "plt.ylabel(\"Loss\")\n",
    "plt.legend()\n",
    "plt.show()\n",
    "\n",
    "plt.figure()\n",
    "line1, = plt.plot(test_accuracies)\n",
    "plt.xlabel(\"Training steps\")\n",
    "plt.ylabel(\"Accuracy\")\n",
    "plt.show()\n"
   ]
  }
 ],
 "metadata": {
  "accelerator": "GPU",
  "colab": {
   "collapsed_sections": [],
   "name": "HW3 wtf.ipynb",
   "provenance": [
    {
     "file_id": "https://github.com/anniewit/IANNWTF-2020/blob/main/week03/mnist_mlp.ipynb",
     "timestamp": 1605447787219
    }
   ]
  },
  "kernelspec": {
   "display_name": "Python 3",
   "language": "python",
   "name": "python3"
  },
  "language_info": {
   "codemirror_mode": {
    "name": "ipython",
    "version": 3
   },
   "file_extension": ".py",
   "mimetype": "text/x-python",
   "name": "python",
   "nbconvert_exporter": "python",
   "pygments_lexer": "ipython3",
   "version": "3.8.6"
  },
  "widgets": {
   "application/vnd.jupyter.widget-state+json": {
    "3a68083663bc46fea75293826bba4326": {
     "model_module": "@jupyter-widgets/controls",
     "model_name": "FloatProgressModel",
     "state": {
      "_dom_classes": [],
      "_model_module": "@jupyter-widgets/controls",
      "_model_module_version": "1.5.0",
      "_model_name": "FloatProgressModel",
      "_view_count": null,
      "_view_module": "@jupyter-widgets/controls",
      "_view_module_version": "1.5.0",
      "_view_name": "ProgressView",
      "bar_style": "success",
      "description": "Dl Completed...: 100%",
      "description_tooltip": null,
      "layout": "IPY_MODEL_bcbec7cd7d064a998a68902061987372",
      "max": 12,
      "min": 0,
      "orientation": "horizontal",
      "style": "IPY_MODEL_b37f64fa973d4e1898ddeb214ad915fd",
      "value": 12
     }
    },
    "5f738cd8346948c295deefacffe55d9f": {
     "model_module": "@jupyter-widgets/controls",
     "model_name": "HBoxModel",
     "state": {
      "_dom_classes": [],
      "_model_module": "@jupyter-widgets/controls",
      "_model_module_version": "1.5.0",
      "_model_name": "HBoxModel",
      "_view_count": null,
      "_view_module": "@jupyter-widgets/controls",
      "_view_module_version": "1.5.0",
      "_view_name": "HBoxView",
      "box_style": "",
      "children": [
       "IPY_MODEL_3a68083663bc46fea75293826bba4326",
       "IPY_MODEL_a41433683884482bbf9d357d3c1f381d"
      ],
      "layout": "IPY_MODEL_e7aa9c4971fa473995e0b848d3bc8d5d"
     }
    },
    "636363047f9e42ada116069414500883": {
     "model_module": "@jupyter-widgets/base",
     "model_name": "LayoutModel",
     "state": {
      "_model_module": "@jupyter-widgets/base",
      "_model_module_version": "1.2.0",
      "_model_name": "LayoutModel",
      "_view_count": null,
      "_view_module": "@jupyter-widgets/base",
      "_view_module_version": "1.2.0",
      "_view_name": "LayoutView",
      "align_content": null,
      "align_items": null,
      "align_self": null,
      "border": null,
      "bottom": null,
      "display": null,
      "flex": null,
      "flex_flow": null,
      "grid_area": null,
      "grid_auto_columns": null,
      "grid_auto_flow": null,
      "grid_auto_rows": null,
      "grid_column": null,
      "grid_gap": null,
      "grid_row": null,
      "grid_template_areas": null,
      "grid_template_columns": null,
      "grid_template_rows": null,
      "height": null,
      "justify_content": null,
      "justify_items": null,
      "left": null,
      "margin": null,
      "max_height": null,
      "max_width": null,
      "min_height": null,
      "min_width": null,
      "object_fit": null,
      "object_position": null,
      "order": null,
      "overflow": null,
      "overflow_x": null,
      "overflow_y": null,
      "padding": null,
      "right": null,
      "top": null,
      "visibility": null,
      "width": null
     }
    },
    "8812036c69d64ac2bb8e4a7a2288866a": {
     "model_module": "@jupyter-widgets/controls",
     "model_name": "DescriptionStyleModel",
     "state": {
      "_model_module": "@jupyter-widgets/controls",
      "_model_module_version": "1.5.0",
      "_model_name": "DescriptionStyleModel",
      "_view_count": null,
      "_view_module": "@jupyter-widgets/base",
      "_view_module_version": "1.2.0",
      "_view_name": "StyleView",
      "description_width": ""
     }
    },
    "a41433683884482bbf9d357d3c1f381d": {
     "model_module": "@jupyter-widgets/controls",
     "model_name": "HTMLModel",
     "state": {
      "_dom_classes": [],
      "_model_module": "@jupyter-widgets/controls",
      "_model_module_version": "1.5.0",
      "_model_name": "HTMLModel",
      "_view_count": null,
      "_view_module": "@jupyter-widgets/controls",
      "_view_module_version": "1.5.0",
      "_view_name": "HTMLView",
      "description": "",
      "description_tooltip": null,
      "layout": "IPY_MODEL_636363047f9e42ada116069414500883",
      "placeholder": "​",
      "style": "IPY_MODEL_8812036c69d64ac2bb8e4a7a2288866a",
      "value": " 12/12 [00:09&lt;00:00,  1.26 file/s]"
     }
    },
    "b37f64fa973d4e1898ddeb214ad915fd": {
     "model_module": "@jupyter-widgets/controls",
     "model_name": "ProgressStyleModel",
     "state": {
      "_model_module": "@jupyter-widgets/controls",
      "_model_module_version": "1.5.0",
      "_model_name": "ProgressStyleModel",
      "_view_count": null,
      "_view_module": "@jupyter-widgets/base",
      "_view_module_version": "1.2.0",
      "_view_name": "StyleView",
      "bar_color": null,
      "description_width": "initial"
     }
    },
    "bcbec7cd7d064a998a68902061987372": {
     "model_module": "@jupyter-widgets/base",
     "model_name": "LayoutModel",
     "state": {
      "_model_module": "@jupyter-widgets/base",
      "_model_module_version": "1.2.0",
      "_model_name": "LayoutModel",
      "_view_count": null,
      "_view_module": "@jupyter-widgets/base",
      "_view_module_version": "1.2.0",
      "_view_name": "LayoutView",
      "align_content": null,
      "align_items": null,
      "align_self": null,
      "border": null,
      "bottom": null,
      "display": null,
      "flex": null,
      "flex_flow": null,
      "grid_area": null,
      "grid_auto_columns": null,
      "grid_auto_flow": null,
      "grid_auto_rows": null,
      "grid_column": null,
      "grid_gap": null,
      "grid_row": null,
      "grid_template_areas": null,
      "grid_template_columns": null,
      "grid_template_rows": null,
      "height": null,
      "justify_content": null,
      "justify_items": null,
      "left": null,
      "margin": null,
      "max_height": null,
      "max_width": null,
      "min_height": null,
      "min_width": null,
      "object_fit": null,
      "object_position": null,
      "order": null,
      "overflow": null,
      "overflow_x": null,
      "overflow_y": null,
      "padding": null,
      "right": null,
      "top": null,
      "visibility": null,
      "width": null
     }
    },
    "e7aa9c4971fa473995e0b848d3bc8d5d": {
     "model_module": "@jupyter-widgets/base",
     "model_name": "LayoutModel",
     "state": {
      "_model_module": "@jupyter-widgets/base",
      "_model_module_version": "1.2.0",
      "_model_name": "LayoutModel",
      "_view_count": null,
      "_view_module": "@jupyter-widgets/base",
      "_view_module_version": "1.2.0",
      "_view_name": "LayoutView",
      "align_content": null,
      "align_items": null,
      "align_self": null,
      "border": null,
      "bottom": null,
      "display": null,
      "flex": null,
      "flex_flow": null,
      "grid_area": null,
      "grid_auto_columns": null,
      "grid_auto_flow": null,
      "grid_auto_rows": null,
      "grid_column": null,
      "grid_gap": null,
      "grid_row": null,
      "grid_template_areas": null,
      "grid_template_columns": null,
      "grid_template_rows": null,
      "height": null,
      "justify_content": null,
      "justify_items": null,
      "left": null,
      "margin": null,
      "max_height": null,
      "max_width": null,
      "min_height": null,
      "min_width": null,
      "object_fit": null,
      "object_position": null,
      "order": null,
      "overflow": null,
      "overflow_x": null,
      "overflow_y": null,
      "padding": null,
      "right": null,
      "top": null,
      "visibility": null,
      "width": null
     }
    }
   }
  }
 },
 "nbformat": 4,
 "nbformat_minor": 1
}
