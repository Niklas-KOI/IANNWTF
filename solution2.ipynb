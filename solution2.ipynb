{
 "cells": [
  {
   "cell_type": "code",
   "execution_count": 1,
   "metadata": {},
   "outputs": [],
   "source": [
    "import numpy as np\n",
    "import math\n",
    "import matplotlib.pyplot as plt"
   ]
  },
  {
   "cell_type": "markdown",
   "metadata": {},
   "source": [
    "## 2 Data Set\n",
    "\n",
    "There are two binary variables, so $2^2=4$ possible inputs."
   ]
  },
  {
   "cell_type": "code",
   "execution_count": 7,
   "metadata": {},
   "outputs": [
    {
     "name": "stdout",
     "output_type": "stream",
     "text": [
      "(4, 2)\n"
     ]
    }
   ],
   "source": [
    "binary_inputs=np.array([\n",
    "                            [0.,0.],\n",
    "                            [0.,1.],\n",
    "                            [1.,0.],\n",
    "                            [1.,1.]\n",
    "                        ])\n",
    "print(binary_inputs.shape)"
   ]
  },
  {
   "cell_type": "code",
   "execution_count": 3,
   "metadata": {},
   "outputs": [
    {
     "name": "stdout",
     "output_type": "stream",
     "text": [
      "[0 0 0 1] [0 1 1 1] [1 1 1 0] [1 0 0 0] [0 1 1 0]\n"
     ]
    }
   ],
   "source": [
    "# define the output labels\n",
    "\n",
    "def negate(array): #inverse every element of the array\n",
    "    result = array.copy()\n",
    "    for i in range(len(result)):\n",
    "        result[i] = (result[i] + 1) % 2 #1+1->0 0+1->1\n",
    "    return result\n",
    "\n",
    "and_labels=np.array([0,0,0,1])\n",
    "or_labels=np.array([0,1,1,1])\n",
    "nand_labels=negate(and_labels)\n",
    "nor_labels=negate(or_labels)\n",
    "xor_labels=np.array([0,1,1,0])\n",
    "\n",
    "print(and_labels,or_labels,nand_labels,nor_labels,xor_labels)"
   ]
  },
  {
   "cell_type": "markdown",
   "metadata": {},
   "source": [
    "## 3 Perceptron"
   ]
  },
  {
   "cell_type": "code",
   "execution_count": 14,
   "metadata": {},
   "outputs": [],
   "source": [
    "\n",
    "def sigmoid(value):\n",
    "    return 1./(1+math.exp(-value))\n",
    "\n",
    "def sigmoid_prime(sigmoid_value): #note that to compute sigma'(d) sigmoid_value should be sigma(d), not d\n",
    "    return sigmoid_value*(1-sigmoid_value)\n",
    "\n",
    "class Perceptron:\n",
    "    def __init__(self, input_units):\n",
    "        self.weights = np.random.standard_normal(size = input_units)\n",
    "        self.bias = np.random.standard_normal()\n",
    "        self.alpha = 0.1\n",
    "    \n",
    "    def forward_step(self,inputs):\n",
    "        self.lastActivation = sigmoid(self.weights @ inputs + self.bias)\n",
    "        self.lastInputs = inputs\n",
    "        return self.lastActivation\n",
    "    \n",
    "    #as delta consists of the first part, the sum of all weights times the respective activation\n",
    "    #and a second part, sigma'(localActivation), only the first part is computed in the previous layer\n",
    "    #and given via firstHalfOfDelta\n",
    "    def update(self,firstHalfOfDelta):\n",
    "        \n",
    "        delta = firstHalfOfDelta * sigmoid_prime(self.lastActivation) #number*number->number\n",
    "        gradient = delta * self.lastInputs #number*vector->vector (compute for all weights at the same time)\n",
    "        \n",
    "        #deltaTimesWeights is needed by the next layer as firstHalfOfDelta\n",
    "        #it is a vector and each element part of the sum for a different perceptron in the next layer\n",
    "        deltaTimesWeights = self.weights * delta\n",
    "        \n",
    "        self.weights = self.weights - self.alpha * gradient    #vector - number * vector -> vector\n",
    "        self.bias    = self.bias    - self.alpha * (delta * 1) #input for bias is always one\n",
    "        \n",
    "        return deltaTimesWeights\n",
    "        \n",
    "    \n",
    "    def __str__(self): #for nicer printing of the network\n",
    "        return (\n",
    "            \"Perceptron: Weights: \" + str(self.weights) +\n",
    "            \", Bias: \" + str(self.bias) +\n",
    "            \" lastOutput: \" + str(self.lastActivation)+\n",
    "            '\\n'\n",
    "        )\n",
    "    "
   ]
  },
  {
   "cell_type": "markdown",
   "metadata": {},
   "source": [
    "## 4 Multi-Layer Perceptron"
   ]
  },
  {
   "cell_type": "code",
   "execution_count": 16,
   "metadata": {},
   "outputs": [],
   "source": [
    "class MLP:\n",
    "    \n",
    "    #inputSize: how many inputs has the first layer\n",
    "    #layerSizes: array of how many perceptrons are in each layer\n",
    "    def __init__(self,inputSize,layerSizes):\n",
    "        layers = [] # array of arrays, the latter containing perceptrons\n",
    "        for l in range(0,len(layerSizes)): #for all layers...\n",
    "            layer = []\n",
    "            for p in range(layerSizes[l]): #...add the respective number of perceptrons to the layer\n",
    "                layer.append(Perceptron(inputSize))\n",
    "            \n",
    "            layers.append(layer)\n",
    "            inputSize = len(layer) # size of this layer is inputSize of the next layer\n",
    "        \n",
    "        self.layers = layers\n",
    "        self.outputSize = len(layers[-1]) # size of output is size of the last layer\n",
    "    \n",
    "    def forward_step(self,inputs):\n",
    "        for layer in self.layers:\n",
    "            outputs = np.zeros(len(layer))\n",
    "            for p in range(len(layer)):\n",
    "                perceptron = layer[p]\n",
    "                outputs[p] = perceptron.forward_step(inputs)\n",
    "            inputs = outputs # outputs of this layer are inputs for the next layer\n",
    "        self.outputs = outputs\n",
    "        return outputs\n",
    "\n",
    "    #errors: np-array, should contain the error for each output-perceptron (in our case one perceptron, one value)\n",
    "    def backprop_step(self,errors):\n",
    "        firstHalfOfDeltas = errors #the multiplication with sigma'(d) is done in the perceptrons\n",
    "        for l in range(len(self.layers)-1,-1,-1): #over all layers, starting from the end\n",
    "            layer = self.layers[l]\n",
    "            \n",
    "            #for each perceptron in the next layer: update the respective value in nextFirstHalfOfDeltas\n",
    "            #nextFirstHalfOfDeltas will contain all sums of weight*delta that are necessary for the next layer\n",
    "            nextFirstHalfOfDeltas = np.zeros(len(layer[0].weights)) \n",
    "            \n",
    "            for p in range(len(layer)):\n",
    "                perceptron=layer[p]\n",
    "                \n",
    "                #update returns an array of all its weights times its delta,\n",
    "                #each of these values is needed by a differnt perceptron in the next layer\n",
    "                nextFirstHalfOfDeltas += perceptron.update(firstHalfOfDeltas[p])\n",
    "            firstHalfOfDeltas=nextFirstHalfOfDeltas\n",
    "                \n",
    "    def __str__(self): #for nicer printing of the network\n",
    "        result = \"MLP:\\n\"\n",
    "        for i in range(len(self.layers)):\n",
    "            result += \"Layer \" + str(i+1) + '\\n'\n",
    "            for neuron in self.layers[i]:\n",
    "                result += str(neuron)\n",
    "        return result\n",
    "            \n",
    "    "
   ]
  },
  {
   "cell_type": "markdown",
   "metadata": {},
   "source": [
    "## 5&6 Training&Visualization"
   ]
  },
  {
   "cell_type": "code",
   "execution_count": 18,
   "metadata": {},
   "outputs": [
    {
     "data": {
      "image/png": "[encoded data removed]",
      "text/plain": [
       "<Figure size 432x288 with 1 Axes>"
      ]
     },
     "metadata": {
      "needs_background": "light"
     },
     "output_type": "display_data"
    },
    {
     "data": {
      "image/png": "[encoded data removed]",
      "text/plain": [
       "<Figure size 432x288 with 1 Axes>"
      ]
     },
     "metadata": {
      "needs_background": "light"
     },
     "output_type": "display_data"
    },
    {
     "name": "stdout",
     "output_type": "stream",
     "text": [
      "MLP:\n",
      "Layer 1\n",
      "Perceptron: Weights: [0.61078746 0.42404925], Bias: -0.2446589923793767 lastOutput: 0.6889362835356319\n",
      "Perceptron: Weights: [-1.87620983 -2.14157681], Bias: -0.12167261503385868 lastOutput: 0.01566573805666163\n",
      "Perceptron: Weights: [2.10975958 2.13063252], Bias: -3.615725661954186 lastOutput: 0.6474571904795345\n",
      "Perceptron: Weights: [0.53435702 0.64335202], Bias: 1.0402275220559867 lastOutput: 0.9020019931551015\n",
      "Layer 2\n",
      "Perceptron: Weights: [ 0.86881455 -2.51891947 -2.77817504  0.73116451], Bias: 0.05221391711331747 lastOutput: 0.3766043969267902\n",
      "\n"
     ]
    }
   ],
   "source": [
    "def training(layerSizes,epochNumber,data,labels):\n",
    "    network = MLP(len(data[0]),layerSizes) #the length of a datapoint equals the input-size for the first layer\n",
    "    avgLosses = []\n",
    "    accuracies = []\n",
    "    for epoch in range(epochNumber):\n",
    "        correctClassified = 0\n",
    "        totalLoss = 0.\n",
    "        for dp in range(len(training_inputs)):\n",
    "            outputs = network.forward_step(training_inputs[dp])\n",
    "            network.backprop_step(np.array([outputs[0] - labels[dp]]))\n",
    "            if (outputs[0] > 0.5 and labels[dp] == 1 or \n",
    "                outputs[0] < 0.5 and labels[dp] == 0):                \n",
    "                correctClassified += 1\n",
    "            loss=(outputs[0]-labels[dp]) ** 2 #use the squared loss for printing\n",
    "            totalLoss += loss \n",
    "        avgLosses.append(totalLoss / len(labels))\n",
    "        accuracies.append(float(correctClassified) / len(labels))\n",
    "    \n",
    "    plt.figure()\n",
    "    plt.plot(list(range(epochNumber)), accuracies)\n",
    "    plt.xlabel(\"Training Steps\")\n",
    "    plt.ylabel(\"Accuracy\")\n",
    "    plt.ylim([-0.1, 1.2])\n",
    "    plt.show()\n",
    "    plt.figure()\n",
    "    plt.plot(list(range(epochNumber)), avgLosses)\n",
    "    plt.xlabel(\"Training Steps\")\n",
    "    plt.ylabel(\"Loss\")\n",
    "    plt.ylim([-0.1, 1.2])\n",
    "    plt.show()\n",
    "    \n",
    "    print(network)\n",
    "\n",
    "#change the last variable to xy_labels to test other tasks.\n",
    "#especially when training for xor, execute the program several times, if you didn't got perfect accuracy\n",
    "#you can also enlarge the network by adding layers (add numbers to the list) or change their sizes with the first variable\n",
    "training([4,1],2000,binary_inputs,xor_labels)"
   ]
  }
 ],
 "metadata": {
  "kernelspec": {
   "display_name": "Python 3",
   "language": "python",
   "name": "python3"
  },
  "language_info": {
   "codemirror_mode": {
    "name": "ipython",
    "version": 3
   },
   "file_extension": ".py",
   "mimetype": "text/x-python",
   "name": "python",
   "nbconvert_exporter": "python",
   "pygments_lexer": "ipython3",
   "version": "3.8.6"
  }
 },
 "nbformat": 4,
 "nbformat_minor": 4
}
